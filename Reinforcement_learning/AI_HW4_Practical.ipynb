{
  "cells": [
    {
      "cell_type": "markdown",
      "metadata": {
        "id": "0MJtQYNJx6Ex"
      },
      "source": [
        "<div align=center>\n",
        "\t\t\n",
        "<font size=5>\n",
        "In the Name of God\n",
        "<font/>\n",
        "<p></p>\n",
        "<br/>\n",
        "<br/>\n",
        "<font color=#FF7500>\n",
        "Sharif University of Technology - Departmenet of Computer Engineering\n",
        "</font>\n",
        "<p></p>\n",
        "<font color=blue>\n",
        "Artifical Intelligence - Dr. Mahdieh Soleimani\n",
        "</font>\n",
        "<br/>\n",
        "<br/>\n",
        "Fall 2022\n",
        "\n",
        "<hr/>\n",
        "<font color=red>\n",
        "Reinforcment Learning Practical Assignment (50 + 10 points)\n",
        "</font>\n",
        "</div>\n",
        "\n",
        "<ul>\n",
        "  <li>Some cell's outputs have not been deleted. you can use these to make sure your implementation is correct.</li>\n",
        "</ul>"
      ]
    },
    {
      "cell_type": "markdown",
      "metadata": {
        "id": "rgA9_usLx6Ey"
      },
      "source": [
        "In this notebook you will use the [openai gym](https://www.gymlibrary.dev/) library to train agents in two different reinforcment learning environments. the first environment is a very simple grid-world with discrete states. The second environment however, has continous states.  \n",
        "make sure to upload your model performance video alongside this notebook. We suggest running this notebook on google colab so that you wont face any package errors."
      ]
    },
    {
      "cell_type": "markdown",
      "metadata": {
        "id": "4uzpGHXRx6Ey"
      },
      "source": [
        "we will first install the necessary packages."
      ]
    },
    {
      "cell_type": "code",
      "execution_count": 1,
      "metadata": {
        "colab": {
          "base_uri": "https://localhost:8080/"
        },
        "id": "XO-JzYynx6Ez",
        "outputId": "5fc5abe9-1b8a-478b-87bb-2b53733f0039"
      },
      "outputs": [
        {
          "output_type": "stream",
          "name": "stdout",
          "text": [
            "Looking in indexes: https://pypi.org/simple, https://us-python.pkg.dev/colab-wheels/public/simple/\n",
            "Collecting gym==0.26\n",
            "  Downloading gym-0.26.0.tar.gz (710 kB)\n",
            "\u001b[K     |████████████████████████████████| 710 kB 11.6 MB/s \n",
            "\u001b[?25h  Installing build dependencies ... \u001b[?25l\u001b[?25hdone\n",
            "  Getting requirements to build wheel ... \u001b[?25l\u001b[?25hdone\n",
            "    Preparing wheel metadata ... \u001b[?25l\u001b[?25hdone\n",
            "Requirement already satisfied: cloudpickle>=1.2.0 in /usr/local/lib/python3.8/dist-packages (from gym==0.26) (1.5.0)\n",
            "Requirement already satisfied: gym-notices>=0.0.4 in /usr/local/lib/python3.8/dist-packages (from gym==0.26) (0.0.8)\n",
            "Requirement already satisfied: numpy>=1.18.0 in /usr/local/lib/python3.8/dist-packages (from gym==0.26) (1.21.6)\n",
            "Requirement already satisfied: importlib-metadata>=4.8.0 in /usr/local/lib/python3.8/dist-packages (from gym==0.26) (4.13.0)\n",
            "Requirement already satisfied: zipp>=0.5 in /usr/local/lib/python3.8/dist-packages (from importlib-metadata>=4.8.0->gym==0.26) (3.10.0)\n",
            "Building wheels for collected packages: gym\n",
            "  Building wheel for gym (PEP 517) ... \u001b[?25l\u001b[?25hdone\n",
            "  Created wheel for gym: filename=gym-0.26.0-py3-none-any.whl size=826299 sha256=a278802d3302ba2ea592810cf7039463b68a81d6521848c3e24332c762350643\n",
            "  Stored in directory: /root/.cache/pip/wheels/f1/f2/92/63d51de23bd3ef89d87af5663ef0a1b04781ccb9757b6f98d4\n",
            "Successfully built gym\n",
            "Installing collected packages: gym\n",
            "  Attempting uninstall: gym\n",
            "    Found existing installation: gym 0.25.2\n",
            "    Uninstalling gym-0.25.2:\n",
            "      Successfully uninstalled gym-0.25.2\n",
            "Successfully installed gym-0.26.0\n",
            "Looking in indexes: https://pypi.org/simple, https://us-python.pkg.dev/colab-wheels/public/simple/\n",
            "Requirement already satisfied: imageio in /usr/local/lib/python3.8/dist-packages (2.9.0)\n",
            "Collecting imageio_ffmpeg\n",
            "  Downloading imageio_ffmpeg-0.4.7-py3-none-manylinux2010_x86_64.whl (26.9 MB)\n",
            "\u001b[K     |████████████████████████████████| 26.9 MB 1.3 MB/s \n",
            "\u001b[?25hRequirement already satisfied: numpy in /usr/local/lib/python3.8/dist-packages (from imageio) (1.21.6)\n",
            "Requirement already satisfied: pillow in /usr/local/lib/python3.8/dist-packages (from imageio) (7.1.2)\n",
            "Installing collected packages: imageio-ffmpeg\n",
            "Successfully installed imageio-ffmpeg-0.4.7\n",
            "Looking in indexes: https://pypi.org/simple, https://us-python.pkg.dev/colab-wheels/public/simple/\n",
            "Collecting pygame\n",
            "  Downloading pygame-2.1.2-cp38-cp38-manylinux_2_17_x86_64.manylinux2014_x86_64.whl (21.8 MB)\n",
            "\u001b[K     |████████████████████████████████| 21.8 MB 89.6 MB/s \n",
            "\u001b[?25hInstalling collected packages: pygame\n",
            "Successfully installed pygame-2.1.2\n",
            "Looking in indexes: https://pypi.org/simple, https://us-python.pkg.dev/colab-wheels/public/simple/\n",
            "Collecting pyglet==1.5.1\n",
            "  Downloading pyglet-1.5.1-py2.py3-none-any.whl (1.0 MB)\n",
            "\u001b[K     |████████████████████████████████| 1.0 MB 13.3 MB/s \n",
            "\u001b[?25hInstalling collected packages: pyglet\n",
            "Successfully installed pyglet-1.5.1\n",
            "Reading package lists... Done\n",
            "Building dependency tree       \n",
            "Reading state information... Done\n",
            "The following package was automatically installed and is no longer required:\n",
            "  libnvidia-common-460\n",
            "Use 'apt autoremove' to remove it.\n",
            "The following additional packages will be installed:\n",
            "  freeglut3\n",
            "Suggested packages:\n",
            "  libgle3\n",
            "The following NEW packages will be installed:\n",
            "  freeglut3 python-opengl\n",
            "0 upgraded, 2 newly installed, 0 to remove and 7 not upgraded.\n",
            "Need to get 570 kB of archives.\n",
            "After this operation, 5,733 kB of additional disk space will be used.\n",
            "Get:1 http://archive.ubuntu.com/ubuntu bionic/universe amd64 freeglut3 amd64 2.8.1-3 [73.6 kB]\n",
            "Get:2 http://archive.ubuntu.com/ubuntu bionic/universe amd64 python-opengl all 3.1.0+dfsg-1 [496 kB]\n",
            "Fetched 570 kB in 0s (5,233 kB/s)\n",
            "Selecting previously unselected package freeglut3:amd64.\n",
            "(Reading database ... 124015 files and directories currently installed.)\n",
            "Preparing to unpack .../freeglut3_2.8.1-3_amd64.deb ...\n",
            "Unpacking freeglut3:amd64 (2.8.1-3) ...\n",
            "Selecting previously unselected package python-opengl.\n",
            "Preparing to unpack .../python-opengl_3.1.0+dfsg-1_all.deb ...\n",
            "Unpacking python-opengl (3.1.0+dfsg-1) ...\n",
            "Setting up freeglut3:amd64 (2.8.1-3) ...\n",
            "Setting up python-opengl (3.1.0+dfsg-1) ...\n",
            "Processing triggers for libc-bin (2.27-3ubuntu1.6) ...\n",
            "Reading package lists... Done\n",
            "Building dependency tree       \n",
            "Reading state information... Done\n",
            "ffmpeg is already the newest version (7:3.4.11-0ubuntu0.1).\n",
            "The following package was automatically installed and is no longer required:\n",
            "  libnvidia-common-460\n",
            "Use 'apt autoremove' to remove it.\n",
            "0 upgraded, 0 newly installed, 0 to remove and 7 not upgraded.\n",
            "Reading package lists... Done\n",
            "Building dependency tree       \n",
            "Reading state information... Done\n",
            "The following package was automatically installed and is no longer required:\n",
            "  libnvidia-common-460\n",
            "Use 'apt autoremove' to remove it.\n",
            "The following NEW packages will be installed:\n",
            "  xvfb\n",
            "0 upgraded, 1 newly installed, 0 to remove and 7 not upgraded.\n",
            "Need to get 785 kB of archives.\n",
            "After this operation, 2,271 kB of additional disk space will be used.\n",
            "Get:1 http://archive.ubuntu.com/ubuntu bionic-updates/universe amd64 xvfb amd64 2:1.19.6-1ubuntu4.12 [785 kB]\n",
            "Fetched 785 kB in 0s (7,173 kB/s)\n",
            "Selecting previously unselected package xvfb.\n",
            "(Reading database ... 126375 files and directories currently installed.)\n",
            "Preparing to unpack .../xvfb_2%3a1.19.6-1ubuntu4.12_amd64.deb ...\n",
            "Unpacking xvfb (2:1.19.6-1ubuntu4.12) ...\n",
            "Setting up xvfb (2:1.19.6-1ubuntu4.12) ...\n",
            "Processing triggers for man-db (2.8.3-2ubuntu0.1) ...\n",
            "Looking in indexes: https://pypi.org/simple, https://us-python.pkg.dev/colab-wheels/public/simple/\n",
            "Collecting pyvirtualdisplay\n",
            "  Downloading PyVirtualDisplay-3.0-py3-none-any.whl (15 kB)\n",
            "Installing collected packages: pyvirtualdisplay\n",
            "Successfully installed pyvirtualdisplay-3.0\n"
          ]
        }
      ],
      "source": [
        "!pip install gym==0.26\n",
        "!pip install imageio imageio_ffmpeg\n",
        "!pip install pygame\n",
        "!pip install pyglet==1.5.1 \n",
        "!apt install python-opengl\n",
        "!apt install ffmpeg\n",
        "!apt install xvfb\n",
        "!pip3 install pyvirtualdisplay"
      ]
    },
    {
      "cell_type": "markdown",
      "metadata": {
        "id": "vjYtp6cyyXi-"
      },
      "source": [
        "the functions below will be used to make a video of the model performance. It will start the environment and choose the best action based on the given Qtable."
      ]
    },
    {
      "cell_type": "code",
      "execution_count": 2,
      "metadata": {
        "id": "-uB9baAkykMs"
      },
      "outputs": [],
      "source": [
        "from IPython.display import HTML\n",
        "from base64 import b64encode\n",
        "import imageio\n",
        "\n",
        "## comment this part if your not using google colab\n",
        "from pyvirtualdisplay import Display\n",
        "virtual_display = Display(visible=0, size=(1400, 900))\n",
        "virtual_display.start()\n",
        "######################\n",
        "\n",
        "def record_video_frozen_lake_env(env, Qtable, out_directory, fps=1, random_action=False):\n",
        "  images = []  \n",
        "  done = False\n",
        "  state, info = env.reset(seed=random.randint(0,500))\n",
        "  img = env.render()\n",
        "  images.append(img)\n",
        "  while not done:\n",
        "    # Take the action (index) that have the maximum expected future reward given that state\n",
        "    action = np.random.randint(4)  if random_action else np.argmax(Qtable[state][:])\n",
        "    state, reward, done, truncated, info = env.step(action)\n",
        "    img = env.render()\n",
        "    images.append(img)\n",
        "  imageio.mimsave(out_directory, [np.array(img) for i, img in enumerate(images)], fps=fps)\n",
        "\n",
        "def show_video(video_path, video_width = 600):\n",
        "  video_file = open(video_path, \"r+b\").read()\n",
        "  video_url = f\"data:video/mp4;base64,{b64encode(video_file).decode()}\"\n",
        "  return HTML(f\"\"\"<video width={video_width} controls><source src=\"{video_url}\"></video>\"\"\")"
      ]
    },
    {
      "cell_type": "markdown",
      "metadata": {
        "id": "281QULrBtRtK"
      },
      "source": [
        "## Part I: FrozenLake Environment (35 + 10 Points)"
      ]
    },
    {
      "cell_type": "code",
      "execution_count": 3,
      "metadata": {
        "id": "k2zC-9XIoYEL"
      },
      "outputs": [],
      "source": [
        "import numpy as np\n",
        "import gym\n",
        "import random\n",
        "from tqdm.notebook import tqdm"
      ]
    },
    {
      "cell_type": "markdown",
      "metadata": {
        "id": "clVAINP0xO17"
      },
      "source": [
        "In this exercise, we want to solve the FrozenLake environment. It is a simple grid-world environment where we have to reach a goal state while avoiding holes.  \n",
        "You can read more about this environment [here](https://www.gymlibrary.dev/environments/toy_text/frozen_lake/)"
      ]
    },
    {
      "cell_type": "markdown",
      "metadata": {
        "id": "YpWqhWmdy0rp"
      },
      "source": [
        "**[Question 1 (1 Points)]**  \n",
        "Create a <u>slippery</u> FrozenLake environment of size <u>4x4</u>"
      ]
    },
    {
      "cell_type": "code",
      "execution_count": 4,
      "metadata": {
        "id": "VcYInB5gzszF"
      },
      "outputs": [],
      "source": [
        "env = gym.make(\"FrozenLake-v1\", map_name=\"4x4\", is_slippery=True, render_mode='rgb_array')"
      ]
    },
    {
      "cell_type": "markdown",
      "metadata": {
        "id": "EfnH3pYryxwf"
      },
      "source": [
        "Let's run a random policy in this environement to get a better understanding of it."
      ]
    },
    {
      "cell_type": "code",
      "execution_count": 5,
      "metadata": {
        "colab": {
          "base_uri": "https://localhost:8080/",
          "height": 622
        },
        "id": "dzYhV3GSyxGq",
        "outputId": "74ad2fea-c790-48f8-e2f9-7cfc8c1f2bd0"
      },
      "outputs": [
        {
          "output_type": "execute_result",
          "data": {
            "text/plain": [
              "<IPython.core.display.HTML object>"
            ],
            "text/html": [
              "<video width=600 controls><source src=\"data:video/mp4;base64,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\"></video>"
            ]
          },
          "metadata": {},
          "execution_count": 5
        }
      ],
      "source": [
        "record_video_frozen_lake_env(env, None, 'frozenlake_random.mp4', fps=1, random_action=True)\n",
        "show_video('frozenlake_random.mp4', video_width = 600)"
      ]
    },
    {
      "cell_type": "markdown",
      "metadata": {
        "id": "wze5Ukspx1G0"
      },
      "source": [
        "**[Question 2 (1 Points)]**  \n",
        "Briefly describe the state space, action space, and reward function of this environment.\n",
        "\n",
        "**Answer:**  \n",
        "State space: Each square in the grid. (16 states in this problem.) <br>\n",
        "Action space: Moving up, down, left or right. <br>\n",
        "Reward function: Reaching goal(G): +1, reaching frozen(F): 0, reaching hole(H): 0."
      ]
    },
    {
      "cell_type": "markdown",
      "metadata": {
        "id": "JmelLdEG0Pjr"
      },
      "source": [
        "**[Question 3 (2 Points)]**  \n",
        "Complete the code for `initialize_q_table` function. It should create a Q-table of size (state_space, action_space) and initializes it. You are free to use whichever initialization you want (a good starting point is to initialize it with all zeros)"
      ]
    },
    {
      "cell_type": "code",
      "execution_count": 6,
      "metadata": {
        "id": "_BKgfgqI0XWW"
      },
      "outputs": [],
      "source": [
        "def initialize_q_table(state_space, action_space):\n",
        "  Qtable = np.zeros((state_space, action_space))\n",
        "  return Qtable"
      ]
    },
    {
      "cell_type": "code",
      "execution_count": 15,
      "metadata": {
        "id": "lWeutJTb0qUX",
        "colab": {
          "base_uri": "https://localhost:8080/"
        },
        "outputId": "d497cf43-9b02-4880-ec76-99efb952a77e"
      },
      "outputs": [
        {
          "output_type": "stream",
          "name": "stdout",
          "text": [
            "[[0. 0. 0. 0.]\n",
            " [0. 0. 0. 0.]\n",
            " [0. 0. 0. 0.]\n",
            " [0. 0. 0. 0.]\n",
            " [0. 0. 0. 0.]\n",
            " [0. 0. 0. 0.]\n",
            " [0. 0. 0. 0.]\n",
            " [0. 0. 0. 0.]\n",
            " [0. 0. 0. 0.]\n",
            " [0. 0. 0. 0.]\n",
            " [0. 0. 0. 0.]\n",
            " [0. 0. 0. 0.]\n",
            " [0. 0. 0. 0.]\n",
            " [0. 0. 0. 0.]\n",
            " [0. 0. 0. 0.]\n",
            " [0. 0. 0. 0.]]\n"
          ]
        }
      ],
      "source": [
        "Qtable = initialize_q_table(16, 4)\n",
        "print(Qtable)"
      ]
    },
    {
      "cell_type": "markdown",
      "metadata": {
        "id": "9NHYE1Q2rMSU"
      },
      "source": [
        "**[Question 4 (2 Points)]**  \n",
        "Complete the code for `epsilon_greedy_policy` function. It should select the best action according to the current Q-function with probability $1-\\varepsilon$ and select a random action with probability $\\varepsilon$."
      ]
    },
    {
      "cell_type": "code",
      "execution_count": 8,
      "metadata": {
        "id": "YbOjqoTRrAqw"
      },
      "outputs": [],
      "source": [
        "def epsilon_greedy_policy(Qtable, state, epsilon):\n",
        "  x = np.random.uniform(0, 1)\n",
        "  if x >= epsilon:\n",
        "    action = np.argmax(Qtable, axis=1)[state]\n",
        "  else:\n",
        "    action = random.randint(0, 3)\n",
        "  return action"
      ]
    },
    {
      "cell_type": "markdown",
      "metadata": {
        "id": "Cgdt3n_ftE9E"
      },
      "source": [
        "**[Question 5 (4 Points)]**  \n",
        "You need to choose appropriate hyperparameters for the agent to learn.\n",
        "\n",
        "In particular, you must find a suitable learning rate and exploration parameters. To facilitate exploration, a common practice is to start with a high exploration rate ($\\varepsilon$) and gradually decrease it as the agent gets better. To implement this, you need to specify the starting exploration rate (`max_epsilon`), the final exploration rate (`min_epsilon`) and a decay rate which reduces the exploration rate after each update (see the `train` function below)."
      ]
    },
    {
      "cell_type": "code",
      "execution_count": 61,
      "metadata": {
        "id": "SrbwYgKZtFWc"
      },
      "outputs": [],
      "source": [
        "# Training parameters\n",
        "n_training_episodes = 50_000  # Total training episodes\n",
        "n_eval_episodes = 10_000\n",
        "learning_rate = 0.01          # Learning rate\n",
        "\n",
        "# Environment parameters\n",
        "max_steps = 99               # Max steps per episode\n",
        "gamma = 0.95                 # Discounting rate\n",
        "\n",
        "# Exploration parameters\n",
        "max_epsilon = 0.3             # Exploration probability at start\n",
        "min_epsilon = 0.01            # Minimum exploration probability \n",
        "decay_rate = 0.95            # Exponential decay rate for exploration prob"
      ]
    },
    {
      "cell_type": "markdown",
      "metadata": {
        "id": "y2hySBMAvmPk"
      },
      "source": [
        "**[Question 6 (10 Points)]**  \n",
        "Complete the `train` function which updates `Qtable` using the Q-learning update rule."
      ]
    },
    {
      "cell_type": "code",
      "execution_count": 34,
      "metadata": {
        "id": "FCqTlP-7vnxs"
      },
      "outputs": [],
      "source": [
        "def train(n_training_episodes, min_epsilon, max_epsilon, decay_rate, env, max_steps, Qtable):\n",
        "  for episode in tqdm(range(n_training_episodes)):\n",
        "    # Adjust epsilon\n",
        "    epsilon = min_epsilon + (max_epsilon - min_epsilon)*np.exp(-decay_rate*episode)\n",
        "    # Reset the environment\n",
        "    state, info = env.reset()\n",
        "    step = 0\n",
        "    done = False\n",
        "\n",
        "    # repeat\n",
        "    for step in range(max_steps):\n",
        "      # You must:\n",
        "      # Take action A_t and observe R_{t+1}, S_{t+1}\n",
        "      # Update the Qtable with (S_t, A_t, R_{t+1}, S_{t+1})\n",
        "      # Be careful about episode termination and truncation\n",
        "      action = epsilon_greedy_policy(Qtable, state, epsilon)\n",
        "      new_state, reward, done, truncated, info = env.step(action)\n",
        "      max_Q = np.amax(Qtable, axis=1)[new_state]\n",
        "      Qtable[state][action] = Qtable[state][action] + learning_rate * (reward + gamma * max_Q - Qtable[state][action])\n",
        "      state = new_state\n",
        "      if done:\n",
        "        break\n",
        "\n",
        "\n",
        "  return Qtable"
      ]
    },
    {
      "cell_type": "markdown",
      "metadata": {
        "id": "_sFV4Kn6zO8G"
      },
      "source": [
        "We are now ready to train our agent."
      ]
    },
    {
      "cell_type": "code",
      "execution_count": 62,
      "metadata": {
        "colab": {
          "base_uri": "https://localhost:8080/",
          "height": 49,
          "referenced_widgets": [
            "0fc916666b554d54928b6011836088e3",
            "57024cc75f8e4acb9f55d79f32b41ec9",
            "d8b95d8897704340bfae793a197198bd",
            "2f86fcb0e11f4707b9091d91c9f4cd8f",
            "f29fd25865f3464c8214bd0b0fb1e32a",
            "7a4126de0ef44a3a8b22861234d8b6c8",
            "562bd77dfef541c5a148181505fe9663",
            "3d16bc123d13418e8a0eae9003bd592c",
            "0b33863eaaba4d7b8abccf92fc2e8319",
            "ec1ea7ed1cc84797bb8b0ed1bd634a05",
            "6d8dadcd706c481d9bac8fe7572affc7"
          ]
        },
        "id": "jduZzTMvzLBx",
        "outputId": "9ab8c692-81ce-473a-c3e0-ff02ba36e03a"
      },
      "outputs": [
        {
          "output_type": "display_data",
          "data": {
            "text/plain": [
              "  0%|          | 0/50000 [00:00<?, ?it/s]"
            ],
            "application/vnd.jupyter.widget-view+json": {
              "version_major": 2,
              "version_minor": 0,
              "model_id": "0fc916666b554d54928b6011836088e3"
            }
          },
          "metadata": {}
        }
      ],
      "source": [
        "Qtable_trained = train(n_training_episodes, min_epsilon, max_epsilon, decay_rate, env, max_steps, Qtable)"
      ]
    },
    {
      "cell_type": "code",
      "source": [
        "print(Qtable_trained)"
      ],
      "metadata": {
        "colab": {
          "base_uri": "https://localhost:8080/"
        },
        "id": "0UkKMfVAaM5k",
        "outputId": "61ef0c6d-84db-427e-ee93-4224362eeb2b"
      },
      "execution_count": 63,
      "outputs": [
        {
          "output_type": "stream",
          "name": "stdout",
          "text": [
            "[[0.17967657 0.16812813 0.16557841 0.16240728]\n",
            " [0.10161621 0.10509524 0.09996915 0.15612842]\n",
            " [0.15492174 0.13890802 0.13858347 0.13601283]\n",
            " [0.09366576 0.09144333 0.08853315 0.1250114 ]\n",
            " [0.21152833 0.14643068 0.15607898 0.13162401]\n",
            " [0.         0.         0.         0.        ]\n",
            " [0.17960576 0.1285243  0.14018969 0.05176468]\n",
            " [0.         0.         0.         0.        ]\n",
            " [0.14894889 0.20708263 0.1899799  0.27051347]\n",
            " [0.24391307 0.36314572 0.28439598 0.21832972]\n",
            " [0.38050439 0.33512309 0.31782364 0.17714141]\n",
            " [0.         0.         0.         0.        ]\n",
            " [0.         0.         0.         0.        ]\n",
            " [0.27537524 0.3751953  0.49951547 0.32705239]\n",
            " [0.52227483 0.71548134 0.65493257 0.60628702]\n",
            " [0.         0.         0.         0.        ]]\n"
          ]
        }
      ]
    },
    {
      "cell_type": "markdown",
      "metadata": {
        "id": "OUlpdnRx75g9"
      },
      "source": [
        "Now, we will evaluate our agent. You don't need to write any code, just run the following cells as they are."
      ]
    },
    {
      "cell_type": "code",
      "execution_count": 68,
      "metadata": {
        "id": "BbQRzYEb8C3u"
      },
      "outputs": [],
      "source": [
        "def evaluate_agent(env, max_steps, n_eval_episodes, Q):\n",
        "  \"\"\"\n",
        "  Evaluate the agent for ``n_eval_episodes`` episodes and returns average reward and std of reward.\n",
        "  :param env: The evaluation environment\n",
        "  :param n_eval_episodes: Number of episode to evaluate the agent\n",
        "  :param Q: The Q-table\n",
        "  \"\"\"\n",
        "  episode_rewards = []\n",
        "  for episode in tqdm(range(n_eval_episodes)):\n",
        "    state, info = env.reset()\n",
        "    step = 0\n",
        "    terminated = False\n",
        "    total_rewards_ep = 0\n",
        "    \n",
        "    for step in range(max_steps):\n",
        "      action = np.argmax(Q[state][:])\n",
        "      new_state, reward, terminated, truncated, info = env.step(action)\n",
        "      total_rewards_ep += reward\n",
        "        \n",
        "      if terminated:\n",
        "        break\n",
        "      state = new_state\n",
        "    episode_rewards.append(total_rewards_ep)\n",
        "  mean_reward = np.mean(episode_rewards)\n",
        "  std_reward = np.std(episode_rewards)\n",
        "\n",
        "  return mean_reward, std_reward"
      ]
    },
    {
      "cell_type": "code",
      "execution_count": 69,
      "metadata": {
        "colab": {
          "base_uri": "https://localhost:8080/",
          "height": 66,
          "referenced_widgets": [
            "34570ca7e0644bb485f14bc2dd319f4f",
            "73a43b4c114d4c2c81e2bda04b045b88",
            "9dbf6b8b1b674276b959cb114c429b3b",
            "86ea39e45d03490aa405241e54bf82ac",
            "146071d21293472b95cc9b507d78ca4b",
            "59e9b1599ba949698506c2651ef995cc",
            "e84b3bb388fc4b1596494e41873e8e8b",
            "51be0050535844c09c5594fe82550616",
            "699cd889ed7d4553b5bfcbce8504c11c",
            "8e34f783bd354f169716449298df65f9",
            "5800bb3b7992454a9e2baa106e02f80e"
          ]
        },
        "id": "61-viEdx8vbC",
        "outputId": "face4217-261d-47ef-f6b9-a7fd7f9ad7ad"
      },
      "outputs": [
        {
          "output_type": "display_data",
          "data": {
            "text/plain": [
              "  0%|          | 0/10000 [00:00<?, ?it/s]"
            ],
            "application/vnd.jupyter.widget-view+json": {
              "version_major": 2,
              "version_minor": 0,
              "model_id": "34570ca7e0644bb485f14bc2dd319f4f"
            }
          },
          "metadata": {}
        },
        {
          "output_type": "stream",
          "name": "stdout",
          "text": [
            "Mean_reward=0.73 +/- 0.44\n"
          ]
        }
      ],
      "source": [
        "mean_reward, std_reward = evaluate_agent(env, max_steps, n_eval_episodes, Qtable_trained)\n",
        "print(f\"Mean_reward={mean_reward:.2f} +/- {std_reward:.2f}\") # should be around 0.65"
      ]
    },
    {
      "cell_type": "markdown",
      "metadata": {
        "id": "8Oj-u9bi7Vct"
      },
      "source": [
        "Now let's see how well our model is doing."
      ]
    },
    {
      "cell_type": "code",
      "execution_count": 70,
      "metadata": {
        "colab": {
          "base_uri": "https://localhost:8080/",
          "height": 622
        },
        "id": "NqP2b15M7U6Y",
        "outputId": "31b35a4c-679a-448a-9504-35131448f656"
      },
      "outputs": [
        {
          "output_type": "execute_result",
          "data": {
            "text/plain": [
              "<IPython.core.display.HTML object>"
            ],
            "text/html": [
              "<video width=600 controls><source src=\"data:video/mp4;base64,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\"></video>"
            ]
          },
          "metadata": {},
          "execution_count": 70
        }
      ],
      "source": [
        "record_video_frozen_lake_env(env, Qtable_trained, 'frozenlake_trained.mp4', fps=1)\n",
        "show_video('frozenlake_trained.mp4', video_width = 600)"
      ]
    },
    {
      "cell_type": "markdown",
      "metadata": {
        "id": "nWvKPz_0zlhR"
      },
      "source": [
        "Next, we will take a look at the Q-function that was learned."
      ]
    },
    {
      "cell_type": "code",
      "execution_count": 67,
      "metadata": {
        "colab": {
          "base_uri": "https://localhost:8080/"
        },
        "id": "X8yC8f4Mzc-h",
        "outputId": "45186de6-d25f-482a-cdfd-f9dd1278a5be"
      },
      "outputs": [
        {
          "output_type": "stream",
          "name": "stdout",
          "text": [
            "[[0.17967657 0.16812813 0.16557841 0.16240728]\n",
            " [0.10161621 0.10509524 0.09996915 0.15612842]\n",
            " [0.15492174 0.13890802 0.13858347 0.13601283]\n",
            " [0.09366576 0.09144333 0.08853315 0.1250114 ]\n",
            " [0.21152833 0.14643068 0.15607898 0.13162401]\n",
            " [0.         0.         0.         0.        ]\n",
            " [0.17960576 0.1285243  0.14018969 0.05176468]\n",
            " [0.         0.         0.         0.        ]\n",
            " [0.14894889 0.20708263 0.1899799  0.27051347]\n",
            " [0.24391307 0.36314572 0.28439598 0.21832972]\n",
            " [0.38050439 0.33512309 0.31782364 0.17714141]\n",
            " [0.         0.         0.         0.        ]\n",
            " [0.         0.         0.         0.        ]\n",
            " [0.27537524 0.3751953  0.49951547 0.32705239]\n",
            " [0.52227483 0.71548134 0.65493257 0.60628702]\n",
            " [0.         0.         0.         0.        ]]\n"
          ]
        }
      ],
      "source": [
        "print(Qtable_trained)"
      ]
    },
    {
      "cell_type": "markdown",
      "metadata": {
        "id": "W_uLOGVo0mCv"
      },
      "source": [
        "**[Question 7 (5 Points)]**  \n",
        "Assume that `Qtable_trained` is the correct Q-function for the final epsilon-greedy policy that was used in training. What is the value function that corresponds to this policy? Write down the relation between $V_\\pi$ and $Q_\\pi$ and use it to complete the following code block."
      ]
    },
    {
      "cell_type": "markdown",
      "metadata": {
        "id": "QV1yNSlX4Xhn"
      },
      "source": [
        "**Answer:**\n",
        "$$V_\\pi (s) = \\max_a{Q_\\pi (s, a)}$$"
      ]
    },
    {
      "cell_type": "code",
      "execution_count": 71,
      "metadata": {
        "id": "tgvG3JPb4q4o"
      },
      "outputs": [],
      "source": [
        "Vtable_trained = np.amax(Qtable_trained, axis=1)"
      ]
    },
    {
      "cell_type": "markdown",
      "metadata": {
        "id": "hrBSciQw4wBD"
      },
      "source": [
        "Take a look at the value function"
      ]
    },
    {
      "cell_type": "code",
      "execution_count": 72,
      "metadata": {
        "id": "ZZ7aWMbOpAwZ",
        "colab": {
          "base_uri": "https://localhost:8080/"
        },
        "outputId": "23038287-33b8-4e9f-c4e7-e2264b98d34b"
      },
      "outputs": [
        {
          "output_type": "stream",
          "name": "stdout",
          "text": [
            "[0.17967657 0.15612842 0.15492174 0.1250114  0.21152833 0.\n",
            " 0.17960576 0.         0.27051347 0.36314572 0.38050439 0.\n",
            " 0.         0.49951547 0.71548134 0.        ]\n"
          ]
        }
      ],
      "source": [
        "print(Vtable_trained)"
      ]
    },
    {
      "cell_type": "markdown",
      "metadata": {
        "id": "JI8bzC7azyAq"
      },
      "source": [
        "**[Question 8 (5 Points)]**  \n",
        "Write a function to generate a visualization for the value function using a heatmap. In a few words, explain what you see."
      ]
    },
    {
      "cell_type": "code",
      "execution_count": 75,
      "metadata": {
        "id": "LUnArCcV0VMp"
      },
      "outputs": [],
      "source": [
        "import seaborn as sns\n",
        "\n",
        "def visualize(Vtable):\n",
        "  table = Vtable.reshape((4, 4))\n",
        "  sns.heatmap(table)"
      ]
    },
    {
      "cell_type": "code",
      "execution_count": 76,
      "metadata": {
        "id": "N51kKbFFpGFh",
        "colab": {
          "base_uri": "https://localhost:8080/",
          "height": 265
        },
        "outputId": "05bf024c-4824-4c1b-9b30-252707eadb92"
      },
      "outputs": [
        {
          "output_type": "display_data",
          "data": {
            "text/plain": [
              "<Figure size 432x288 with 2 Axes>"
            ],
            "image/png": "[encoded data removed]"
          },
          "metadata": {
            "needs_background": "light"
          }
        }
      ],
      "source": [
        "visualize(Vtable_trained)"
      ]
    },
    {
      "cell_type": "markdown",
      "metadata": {
        "id": "HyNca-10ruQm"
      },
      "source": [
        "**[Question 9 (5 Points)]**  \n",
        "Can we use a pure greedy policy for Q-learning? Explain."
      ]
    },
    {
      "cell_type": "markdown",
      "metadata": {
        "id": "JqX18Ic-siGm"
      },
      "source": [
        "**Answer:**\n",
        "\n",
        "Instead of acting randomly to reach the goal and fill the table, we could start from random states and calculate Q-values using greedy policy from there, and in each step, modify the Bellman equations such that they still hold for different starting points. (for exapamle, when we start from a zero Q-value and reach to a non-zero Q-value that was a starting state for previous iterations, we could count number of steps to reach that state ($n$), and multiply reminder of the path to goal by a factor of $\\gamma^{n}$."
      ]
    },
    {
      "cell_type": "markdown",
      "metadata": {
        "id": "EVUwDSzC_YP8"
      },
      "source": [
        "**[Bonus Question (10 Points)]**  \n",
        "Think about the role of the discount factor in this environment and experiment.  \n",
        "1. Explain why it is not the best idea to set $\\gamma = 1$ for a navigation task. You might find it easier to reason about a deterministic (i.e., non-slippery) environment. (5 Points)\n",
        "2. If we had used $\\gamma = 1$, the value of states could be interpreted in a meaningful way. Think about what $V^*(s)$ would be if we had set $\\gamma = 1$ and trained until we got the optimal value function. (5 Points)"
      ]
    },
    {
      "cell_type": "markdown",
      "metadata": {
        "id": "GttKYjfu_cvg"
      },
      "source": [
        "**Answer:**\n",
        "\n",
        "1. Because setting $\\gamma$ to 1 means that we don't penalize late arrival to the goal, which means our optimal answer could be long, which increases the chance of reaching holes. On the other hand, value iterartion will be slower to converge, because depth of the search tree could be much larger.\n",
        "2. When $γ = 1$, $V^*(s)$ is basically the probablity of reaching the goal from the state $s$ if the agent obeys the optima policy."
      ]
    },
    {
      "cell_type": "markdown",
      "metadata": {
        "id": "WLiFCIek6s8v"
      },
      "source": [
        "# Part II: Mountain Car Environment (15 point)"
      ]
    },
    {
      "cell_type": "markdown",
      "metadata": {
        "id": "7R36a4nH7MuZ"
      },
      "source": [
        "The Mountain Car MDP is a deterministic MDP that consists of a car placed stochastically at the bottom of a sinusoidal valley, with the only possible actions being the accelerations that can be applied to the car in either direction. The goal of the MDP is to strategically accelerate the car to reach the goal state on top of the right hill."
      ]
    },
    {
      "cell_type": "markdown",
      "metadata": {
        "id": "VlyLlwIG8qjw"
      },
      "source": [
        "lets create the environment."
      ]
    },
    {
      "cell_type": "code",
      "execution_count": 139,
      "metadata": {
        "id": "eBMSm62o8qBs"
      },
      "outputs": [],
      "source": [
        "env = gym.make(\"MountainCar-v0\", render_mode='rgb_array')"
      ]
    },
    {
      "cell_type": "markdown",
      "metadata": {
        "id": "CUOtuKcv8_Qw"
      },
      "source": [
        "The state of the car is represented by its velocity and position along the x axis. the velocity is a number between -0.07, 0.07 and the position is a number between -1.3, 0.6. There are 3 discrete deterministic actions: (0:Accelerate to the left, 1:Don’t accelerate, 2:Accelerate to the right)\n",
        "The starting position of the car is different each time we run the environment."
      ]
    },
    {
      "cell_type": "markdown",
      "metadata": {
        "id": "3exMYOjN9oza"
      },
      "source": [
        "In order to use the same Q learning algorithm on this environment we need to somehow discretize the states. We can easily do this by dividing the range of the observation into smaller range.   \n",
        "its important how small we divide these range. if the step size is too big we might not achieve a good accuracy and if the step size is too small we will have a bigger observation space.  "
      ]
    },
    {
      "cell_type": "markdown",
      "metadata": {
        "id": "dK9XEjBb-jTB"
      },
      "source": [
        "**[Question 10 (5 Points)]**  \n",
        "implement the next  discretization function."
      ]
    },
    {
      "cell_type": "code",
      "execution_count": 89,
      "metadata": {
        "id": "VwdauAFa8-yi"
      },
      "outputs": [],
      "source": [
        "def discretize(x, min_value, step_size):\n",
        "    return int(np.floor((x - min_value) / step_size))\n",
        "\n",
        "assert(discretize(0.222, 0.1, 0.1)==1)\n",
        "assert(discretize(0.134, 0.1, 0.1)==0) "
      ]
    },
    {
      "cell_type": "markdown",
      "metadata": {
        "id": "XeSrhR6t_b4-"
      },
      "source": [
        "we will use step size 0.1 for the position and the step size 0.01 for the velocity. the following function will discretize a state using the function you implemented above."
      ]
    },
    {
      "cell_type": "code",
      "execution_count": 90,
      "metadata": {
        "id": "KltzG8ay7QUO"
      },
      "outputs": [],
      "source": [
        "def discretize_state(state, step_velocity=0.01, step_position=0.1):\n",
        "  position , velocity = state\n",
        "  position = discretize(position, -1.3, step_position)\n",
        "  velocity = discretize(velocity, -0.07, step_velocity)\n",
        "  if position==19:\n",
        "    position = 18\n",
        "  if velocity==14:\n",
        "    velocity = 13\n",
        "  return (position, velocity)"
      ]
    },
    {
      "cell_type": "markdown",
      "metadata": {
        "id": "pyBvbk-iAgbj"
      },
      "source": [
        "the function below will run the mountain car experiment and output a video. We will use it to run an agent with a random policy."
      ]
    },
    {
      "cell_type": "code",
      "execution_count": 91,
      "metadata": {
        "colab": {
          "base_uri": "https://localhost:8080/",
          "height": 454
        },
        "id": "sjZNzcBrAf4t",
        "outputId": "b2a862ad-26da-49f4-b7cb-a2a6ed2fe145"
      },
      "outputs": [
        {
          "output_type": "stream",
          "name": "stderr",
          "text": [
            "WARNING:imageio_ffmpeg:IMAGEIO FFMPEG_WRITER WARNING: input image is not divisible by macro_block_size=16, resizing from (600, 400) to (608, 400) to ensure video compatibility with most codecs and players. To prevent resizing, make your input image divisible by the macro_block_size or set the macro_block_size to 1 (risking incompatibility).\n"
          ]
        },
        {
          "output_type": "execute_result",
          "data": {
            "text/plain": [
              "<IPython.core.display.HTML object>"
            ],
            "text/html": [
              "<video width=600 controls><source src=\"data:video/mp4;base64,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\"></video>"
            ]
          },
          "metadata": {},
          "execution_count": 91
        }
      ],
      "source": [
        "def record_video_mountain_car_env(env, Qtable, out_directory, fps=1, random_action=False, max_episode=500):\n",
        "  images = []  \n",
        "  truncated, done = False, False\n",
        "  state, info = env.reset(seed=random.randint(0,500))\n",
        "  state = discretize_state(state)\n",
        "  img = env.render()\n",
        "  images.append(img)\n",
        "  episode = 0\n",
        "  while episode < max_episode and not done:\n",
        "    # Take the action (index) that have the maximum expected future reward given that state\n",
        "    action = np.random.randint(3)  if random_action else np.argmax(Qtable[state[0]][state[1]][:])\n",
        "    state, reward, done, truncated, info = env.step(action)\n",
        "    state = discretize_state(state)\n",
        "    img = env.render()\n",
        "    images.append(img)\n",
        "    episode += 1\n",
        "  imageio.mimsave(out_directory, [np.array(img) for i, img in enumerate(images)], fps=fps)\n",
        "\n",
        "def show_video(video_path, video_width = 600):\n",
        "  video_file = open(video_path, \"r+b\").read()\n",
        "  video_url = f\"data:video/mp4;base64,{b64encode(video_file).decode()}\"\n",
        "  return HTML(f\"\"\"<video width={video_width} controls><source src=\"{video_url}\"></video>\"\"\")\n",
        "\n",
        "record_video_mountain_car_env(env, None, 'mountaincar_random.mp4', fps=15, random_action=True)\n",
        "show_video('mountaincar_random.mp4', video_width = 600)"
      ]
    },
    {
      "cell_type": "markdown",
      "metadata": {
        "id": "WIETFj_sDR5s"
      },
      "source": [
        "**[Question 11 (2 Points)]**  \n",
        "Implement the next functions like you did the previous part. "
      ]
    },
    {
      "cell_type": "code",
      "execution_count": 127,
      "metadata": {
        "id": "2w7fNw4NC2mj",
        "colab": {
          "base_uri": "https://localhost:8080/"
        },
        "outputId": "3888e9ef-b532-4bda-9d47-80c78e849d10"
      },
      "outputs": [
        {
          "output_type": "stream",
          "name": "stdout",
          "text": [
            "(19, 14, 3)\n"
          ]
        }
      ],
      "source": [
        "from os import stat_result\n",
        "def initialize_q_table(step_size_velocity, step_size_pos, action_space):\n",
        "  # Qtable should be of the shape (discrete position value, discrete velocity value, action_no)\n",
        "  position_no = int(np.floor(1.9 / step_size_pos)) + 1\n",
        "  velocity_no = int(np.floor(0.14 / step_size_velocity))\n",
        "  Qtable = np.zeros((position_no, velocity_no, 3))\n",
        "  return Qtable\n",
        "\n",
        "def epsilon_greedy_policy(Qtable, state, epsilon):\n",
        "  x = np.random.uniform(0, 1)\n",
        "  stat_result = discretize_state(state)\n",
        "  if x >= epsilon:\n",
        "    action = np.argmax(Qtable[state[0]][state[1]][:])\n",
        "  else:\n",
        "    action = random.randint(0, 2)\n",
        "  return action\n",
        "\n",
        "Qtable = initialize_q_table(0.01, 0.1, 3)\n",
        "print(Qtable.shape)"
      ]
    },
    {
      "cell_type": "markdown",
      "metadata": {
        "id": "RWSMO5cIE6NE"
      },
      "source": [
        "**[Question 12 (8 Points)]**  \n",
        "Change the previous train function so it works in this environment."
      ]
    },
    {
      "cell_type": "code",
      "execution_count": 145,
      "metadata": {
        "id": "zAHvbfxpC9XR"
      },
      "outputs": [],
      "source": [
        "def train(n_training_episodes, min_epsilon, max_epsilon, decay_rate, env, max_steps, Qtable):\n",
        "  for episode in tqdm(range(n_training_episodes)):\n",
        "    # Adjust epsilon\n",
        "    epsilon = min_epsilon + (max_epsilon - min_epsilon)*np.exp(-decay_rate*episode)\n",
        "    # Reset the environment\n",
        "    state, info = env.reset()\n",
        "    state = discretize_state(state)\n",
        "    step = 0\n",
        "    done = False\n",
        "\n",
        "    # repeat\n",
        "    for step in range(max_steps):\n",
        "      action = epsilon_greedy_policy(Qtable, state, epsilon)\n",
        "      new_state, reward, done, truncated, info = env.step(action)\n",
        "      new_state = discretize_state(new_state)\n",
        "      max_Q = np.amax(Qtable[new_state[0]][new_state[1]][:])\n",
        "      Qtable[state[0]][state[1]][action] = Qtable[state[0]][state[1]][action] + learning_rate * (reward + gamma * max_Q - Qtable[state[0]][state[1]][action])\n",
        "      state = new_state\n",
        "      if done:\n",
        "        break\n",
        "\n",
        "  return Qtable"
      ]
    },
    {
      "cell_type": "markdown",
      "metadata": {
        "id": "3CHmdB4BFYow"
      },
      "source": [
        "Now lets train our model. You can change the hyperparameters if you want."
      ]
    },
    {
      "cell_type": "code",
      "execution_count": 151,
      "metadata": {
        "id": "tBoHqoLhEnJt"
      },
      "outputs": [],
      "source": [
        "# Training parameters\n",
        "n_training_episodes = 5_000  # Total training episodes\n",
        "learning_rate = 0.1           # Learning rate\n",
        "\n",
        "# Environment parameters\n",
        "max_steps = 500               # Max steps per episode\n",
        "gamma = 0.95                 # Discounting rate\n",
        "\n",
        "# Exploration parameters\n",
        "max_epsilon = 1.0             # Exploration probability at start\n",
        "min_epsilon = 0.01            # Minimum exploration probability \n",
        "decay_rate = 2e-3            # Exponential decay rate for exploration prob"
      ]
    },
    {
      "cell_type": "code",
      "execution_count": 152,
      "metadata": {
        "colab": {
          "base_uri": "https://localhost:8080/",
          "height": 49,
          "referenced_widgets": [
            "fa3bcbe210024b49b6a4dd6d75fd9b01",
            "d80b5c8b370540a7a9e3b5b4a2aeb87e",
            "25a5dfee81c14202842cd74f16f75015",
            "422a40ff1c9f478facc5dbc823fa3bc0",
            "0c5afd80b6a544139ccd22abf14048ab",
            "325319c2fa0249b98bcb33d2fd4f6c15",
            "856bf0bd356844ee9c18f9c4f6c36b30",
            "d6c2e02edc994eb2847ac5740cb7f146",
            "ab6dfe6822e54497ac07045e68b14256",
            "42b5c501daf44269bdcdf8bba6be2616",
            "943763133ef44b389828a5c35a1c7a69"
          ]
        },
        "id": "6emQyg3JFg1n",
        "outputId": "5afde42d-e93f-4b99-93ae-66157e979c10"
      },
      "outputs": [
        {
          "output_type": "display_data",
          "data": {
            "text/plain": [
              "  0%|          | 0/5000 [00:00<?, ?it/s]"
            ],
            "application/vnd.jupyter.widget-view+json": {
              "version_major": 2,
              "version_minor": 0,
              "model_id": "fa3bcbe210024b49b6a4dd6d75fd9b01"
            }
          },
          "metadata": {}
        }
      ],
      "source": [
        "Qtable_trained = train(n_training_episodes, min_epsilon, max_epsilon, decay_rate, env, max_steps, Qtable)"
      ]
    },
    {
      "cell_type": "markdown",
      "metadata": {
        "id": "wlH7J3jQg5Ra"
      },
      "source": [
        "Now let us inspect how well our model is doing. In order to pass the assignment, the car must reach the goal."
      ]
    },
    {
      "cell_type": "code",
      "execution_count": 153,
      "metadata": {
        "colab": {
          "base_uri": "https://localhost:8080/",
          "height": 454
        },
        "id": "TKkzIikqHOXw",
        "outputId": "58961be9-715e-41d4-a4a8-1f3013bf271f"
      },
      "outputs": [
        {
          "output_type": "stream",
          "name": "stderr",
          "text": [
            "WARNING:imageio_ffmpeg:IMAGEIO FFMPEG_WRITER WARNING: input image is not divisible by macro_block_size=16, resizing from (600, 400) to (608, 400) to ensure video compatibility with most codecs and players. To prevent resizing, make your input image divisible by the macro_block_size or set the macro_block_size to 1 (risking incompatibility).\n"
          ]
        },
        {
          "output_type": "execute_result",
          "data": {
            "text/plain": [
              "<IPython.core.display.HTML object>"
            ],
            "text/html": [
              "<video width=600 controls><source src=\"data:video/mp4;base64,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\"></video>"
            ]
          },
          "metadata": {},
          "execution_count": 153
        }
      ],
      "source": [
        "record_video_mountain_car_env(env, Qtable_trained, 'mountaincar_random.mp4', fps=15)\n",
        "show_video('mountaincar_random.mp4', video_width = 600)"
      ]
    }
  ],
  "metadata": {
    "colab": {
      "provenance": []
    },
    "kernelspec": {
      "display_name": "Python 3",
      "language": "python",
      "name": "python3"
    },
    "language_info": {
      "codemirror_mode": {
        "name": "ipython",
        "version": 3
      },
      "file_extension": ".py",
      "mimetype": "text/x-python",
      "name": "python",
      "nbconvert_exporter": "python",
      "pygments_lexer": "ipython3",
      "version": "3.8.5"
    },
    "widgets": {
      "application/vnd.jupyter.widget-state+json": {
        "0fc916666b554d54928b6011836088e3": {
          "model_module": "@jupyter-widgets/controls",
          "model_name": "HBoxModel",
          "model_module_version": "1.5.0",
          "state": {
            "_dom_classes": [],
            "_model_module": "@jupyter-widgets/controls",
            "_model_module_version": "1.5.0",
            "_model_name": "HBoxModel",
            "_view_count": null,
            "_view_module": "@jupyter-widgets/controls",
            "_view_module_version": "1.5.0",
            "_view_name": "HBoxView",
            "box_style": "",
            "children": [
              "IPY_MODEL_57024cc75f8e4acb9f55d79f32b41ec9",
              "IPY_MODEL_d8b95d8897704340bfae793a197198bd",
              "IPY_MODEL_2f86fcb0e11f4707b9091d91c9f4cd8f"
            ],
            "layout": "IPY_MODEL_f29fd25865f3464c8214bd0b0fb1e32a"
          }
        },
        "57024cc75f8e4acb9f55d79f32b41ec9": {
          "model_module": "@jupyter-widgets/controls",
          "model_name": "HTMLModel",
          "model_module_version": "1.5.0",
          "state": {
            "_dom_classes": [],
            "_model_module": "@jupyter-widgets/controls",
            "_model_module_version": "1.5.0",
            "_model_name": "HTMLModel",
            "_view_count": null,
            "_view_module": "@jupyter-widgets/controls",
            "_view_module_version": "1.5.0",
            "_view_name": "HTMLView",
            "description": "",
            "description_tooltip": null,
            "layout": "IPY_MODEL_7a4126de0ef44a3a8b22861234d8b6c8",
            "placeholder": "​",
            "style": "IPY_MODEL_562bd77dfef541c5a148181505fe9663",
            "value": "100%"
          }
        },
        "d8b95d8897704340bfae793a197198bd": {
          "model_module": "@jupyter-widgets/controls",
          "model_name": "FloatProgressModel",
          "model_module_version": "1.5.0",
          "state": {
            "_dom_classes": [],
            "_model_module": "@jupyter-widgets/controls",
            "_model_module_version": "1.5.0",
            "_model_name": "FloatProgressModel",
            "_view_count": null,
            "_view_module": "@jupyter-widgets/controls",
            "_view_module_version": "1.5.0",
            "_view_name": "ProgressView",
            "bar_style": "success",
            "description": "",
            "description_tooltip": null,
            "layout": "IPY_MODEL_3d16bc123d13418e8a0eae9003bd592c",
            "max": 50000,
            "min": 0,
            "orientation": "horizontal",
            "style": "IPY_MODEL_0b33863eaaba4d7b8abccf92fc2e8319",
            "value": 50000
          }
        },
        "2f86fcb0e11f4707b9091d91c9f4cd8f": {
          "model_module": "@jupyter-widgets/controls",
          "model_name": "HTMLModel",
          "model_module_version": "1.5.0",
          "state": {
            "_dom_classes": [],
            "_model_module": "@jupyter-widgets/controls",
            "_model_module_version": "1.5.0",
            "_model_name": "HTMLModel",
            "_view_count": null,
            "_view_module": "@jupyter-widgets/controls",
            "_view_module_version": "1.5.0",
            "_view_name": "HTMLView",
            "description": "",
            "description_tooltip": null,
            "layout": "IPY_MODEL_ec1ea7ed1cc84797bb8b0ed1bd634a05",
            "placeholder": "​",
            "style": "IPY_MODEL_6d8dadcd706c481d9bac8fe7572affc7",
            "value": " 50000/50000 [01:16&lt;00:00, 624.84it/s]"
          }
        },
        "f29fd25865f3464c8214bd0b0fb1e32a": {
          "model_module": "@jupyter-widgets/base",
          "model_name": "LayoutModel",
          "model_module_version": "1.2.0",
          "state": {
            "_model_module": "@jupyter-widgets/base",
            "_model_module_version": "1.2.0",
            "_model_name": "LayoutModel",
            "_view_count": null,
            "_view_module": "@jupyter-widgets/base",
            "_view_module_version": "1.2.0",
            "_view_name": "LayoutView",
            "align_content": null,
            "align_items": null,
            "align_self": null,
            "border": null,
            "bottom": null,
            "display": null,
            "flex": null,
            "flex_flow": null,
            "grid_area": null,
            "grid_auto_columns": null,
            "grid_auto_flow": null,
            "grid_auto_rows": null,
            "grid_column": null,
            "grid_gap": null,
            "grid_row": null,
            "grid_template_areas": null,
            "grid_template_columns": null,
            "grid_template_rows": null,
            "height": null,
            "justify_content": null,
            "justify_items": null,
            "left": null,
            "margin": null,
            "max_height": null,
            "max_width": null,
            "min_height": null,
            "min_width": null,
            "object_fit": null,
            "object_position": null,
            "order": null,
            "overflow": null,
            "overflow_x": null,
            "overflow_y": null,
            "padding": null,
            "right": null,
            "top": null,
            "visibility": null,
            "width": null
          }
        },
        "7a4126de0ef44a3a8b22861234d8b6c8": {
          "model_module": "@jupyter-widgets/base",
          "model_name": "LayoutModel",
          "model_module_version": "1.2.0",
          "state": {
            "_model_module": "@jupyter-widgets/base",
            "_model_module_version": "1.2.0",
            "_model_name": "LayoutModel",
            "_view_count": null,
            "_view_module": "@jupyter-widgets/base",
            "_view_module_version": "1.2.0",
            "_view_name": "LayoutView",
            "align_content": null,
            "align_items": null,
            "align_self": null,
            "border": null,
            "bottom": null,
            "display": null,
            "flex": null,
            "flex_flow": null,
            "grid_area": null,
            "grid_auto_columns": null,
            "grid_auto_flow": null,
            "grid_auto_rows": null,
            "grid_column": null,
            "grid_gap": null,
            "grid_row": null,
            "grid_template_areas": null,
            "grid_template_columns": null,
            "grid_template_rows": null,
            "height": null,
            "justify_content": null,
            "justify_items": null,
            "left": null,
            "margin": null,
            "max_height": null,
            "max_width": null,
            "min_height": null,
            "min_width": null,
            "object_fit": null,
            "object_position": null,
            "order": null,
            "overflow": null,
            "overflow_x": null,
            "overflow_y": null,
            "padding": null,
            "right": null,
            "top": null,
            "visibility": null,
            "width": null
          }
        },
        "562bd77dfef541c5a148181505fe9663": {
          "model_module": "@jupyter-widgets/controls",
          "model_name": "DescriptionStyleModel",
          "model_module_version": "1.5.0",
          "state": {
            "_model_module": "@jupyter-widgets/controls",
            "_model_module_version": "1.5.0",
            "_model_name": "DescriptionStyleModel",
            "_view_count": null,
            "_view_module": "@jupyter-widgets/base",
            "_view_module_version": "1.2.0",
            "_view_name": "StyleView",
            "description_width": ""
          }
        },
        "3d16bc123d13418e8a0eae9003bd592c": {
          "model_module": "@jupyter-widgets/base",
          "model_name": "LayoutModel",
          "model_module_version": "1.2.0",
          "state": {
            "_model_module": "@jupyter-widgets/base",
            "_model_module_version": "1.2.0",
            "_model_name": "LayoutModel",
            "_view_count": null,
            "_view_module": "@jupyter-widgets/base",
            "_view_module_version": "1.2.0",
            "_view_name": "LayoutView",
            "align_content": null,
            "align_items": null,
            "align_self": null,
            "border": null,
            "bottom": null,
            "display": null,
            "flex": null,
            "flex_flow": null,
            "grid_area": null,
            "grid_auto_columns": null,
            "grid_auto_flow": null,
            "grid_auto_rows": null,
            "grid_column": null,
            "grid_gap": null,
            "grid_row": null,
            "grid_template_areas": null,
            "grid_template_columns": null,
            "grid_template_rows": null,
            "height": null,
            "justify_content": null,
            "justify_items": null,
            "left": null,
            "margin": null,
            "max_height": null,
            "max_width": null,
            "min_height": null,
            "min_width": null,
            "object_fit": null,
            "object_position": null,
            "order": null,
            "overflow": null,
            "overflow_x": null,
            "overflow_y": null,
            "padding": null,
            "right": null,
            "top": null,
            "visibility": null,
            "width": null
          }
        },
        "0b33863eaaba4d7b8abccf92fc2e8319": {
          "model_module": "@jupyter-widgets/controls",
          "model_name": "ProgressStyleModel",
          "model_module_version": "1.5.0",
          "state": {
            "_model_module": "@jupyter-widgets/controls",
            "_model_module_version": "1.5.0",
            "_model_name": "ProgressStyleModel",
            "_view_count": null,
            "_view_module": "@jupyter-widgets/base",
            "_view_module_version": "1.2.0",
            "_view_name": "StyleView",
            "bar_color": null,
            "description_width": ""
          }
        },
        "ec1ea7ed1cc84797bb8b0ed1bd634a05": {
          "model_module": "@jupyter-widgets/base",
          "model_name": "LayoutModel",
          "model_module_version": "1.2.0",
          "state": {
            "_model_module": "@jupyter-widgets/base",
            "_model_module_version": "1.2.0",
            "_model_name": "LayoutModel",
            "_view_count": null,
            "_view_module": "@jupyter-widgets/base",
            "_view_module_version": "1.2.0",
            "_view_name": "LayoutView",
            "align_content": null,
            "align_items": null,
            "align_self": null,
            "border": null,
            "bottom": null,
            "display": null,
            "flex": null,
            "flex_flow": null,
            "grid_area": null,
            "grid_auto_columns": null,
            "grid_auto_flow": null,
            "grid_auto_rows": null,
            "grid_column": null,
            "grid_gap": null,
            "grid_row": null,
            "grid_template_areas": null,
            "grid_template_columns": null,
            "grid_template_rows": null,
            "height": null,
            "justify_content": null,
            "justify_items": null,
            "left": null,
            "margin": null,
            "max_height": null,
            "max_width": null,
            "min_height": null,
            "min_width": null,
            "object_fit": null,
            "object_position": null,
            "order": null,
            "overflow": null,
            "overflow_x": null,
            "overflow_y": null,
            "padding": null,
            "right": null,
            "top": null,
            "visibility": null,
            "width": null
          }
        },
        "6d8dadcd706c481d9bac8fe7572affc7": {
          "model_module": "@jupyter-widgets/controls",
          "model_name": "DescriptionStyleModel",
          "model_module_version": "1.5.0",
          "state": {
            "_model_module": "@jupyter-widgets/controls",
            "_model_module_version": "1.5.0",
            "_model_name": "DescriptionStyleModel",
            "_view_count": null,
            "_view_module": "@jupyter-widgets/base",
            "_view_module_version": "1.2.0",
            "_view_name": "StyleView",
            "description_width": ""
          }
        },
        "34570ca7e0644bb485f14bc2dd319f4f": {
          "model_module": "@jupyter-widgets/controls",
          "model_name": "HBoxModel",
          "model_module_version": "1.5.0",
          "state": {
            "_dom_classes": [],
            "_model_module": "@jupyter-widgets/controls",
            "_model_module_version": "1.5.0",
            "_model_name": "HBoxModel",
            "_view_count": null,
            "_view_module": "@jupyter-widgets/controls",
            "_view_module_version": "1.5.0",
            "_view_name": "HBoxView",
            "box_style": "",
            "children": [
              "IPY_MODEL_73a43b4c114d4c2c81e2bda04b045b88",
              "IPY_MODEL_9dbf6b8b1b674276b959cb114c429b3b",
              "IPY_MODEL_86ea39e45d03490aa405241e54bf82ac"
            ],
            "layout": "IPY_MODEL_146071d21293472b95cc9b507d78ca4b"
          }
        },
        "73a43b4c114d4c2c81e2bda04b045b88": {
          "model_module": "@jupyter-widgets/controls",
          "model_name": "HTMLModel",
          "model_module_version": "1.5.0",
          "state": {
            "_dom_classes": [],
            "_model_module": "@jupyter-widgets/controls",
            "_model_module_version": "1.5.0",
            "_model_name": "HTMLModel",
            "_view_count": null,
            "_view_module": "@jupyter-widgets/controls",
            "_view_module_version": "1.5.0",
            "_view_name": "HTMLView",
            "description": "",
            "description_tooltip": null,
            "layout": "IPY_MODEL_59e9b1599ba949698506c2651ef995cc",
            "placeholder": "​",
            "style": "IPY_MODEL_e84b3bb388fc4b1596494e41873e8e8b",
            "value": "100%"
          }
        },
        "9dbf6b8b1b674276b959cb114c429b3b": {
          "model_module": "@jupyter-widgets/controls",
          "model_name": "FloatProgressModel",
          "model_module_version": "1.5.0",
          "state": {
            "_dom_classes": [],
            "_model_module": "@jupyter-widgets/controls",
            "_model_module_version": "1.5.0",
            "_model_name": "FloatProgressModel",
            "_view_count": null,
            "_view_module": "@jupyter-widgets/controls",
            "_view_module_version": "1.5.0",
            "_view_name": "ProgressView",
            "bar_style": "success",
            "description": "",
            "description_tooltip": null,
            "layout": "IPY_MODEL_51be0050535844c09c5594fe82550616",
            "max": 10000,
            "min": 0,
            "orientation": "horizontal",
            "style": "IPY_MODEL_699cd889ed7d4553b5bfcbce8504c11c",
            "value": 10000
          }
        },
        "86ea39e45d03490aa405241e54bf82ac": {
          "model_module": "@jupyter-widgets/controls",
          "model_name": "HTMLModel",
          "model_module_version": "1.5.0",
          "state": {
            "_dom_classes": [],
            "_model_module": "@jupyter-widgets/controls",
            "_model_module_version": "1.5.0",
            "_model_name": "HTMLModel",
            "_view_count": null,
            "_view_module": "@jupyter-widgets/controls",
            "_view_module_version": "1.5.0",
            "_view_name": "HTMLView",
            "description": "",
            "description_tooltip": null,
            "layout": "IPY_MODEL_8e34f783bd354f169716449298df65f9",
            "placeholder": "​",
            "style": "IPY_MODEL_5800bb3b7992454a9e2baa106e02f80e",
            "value": " 10000/10000 [00:06&lt;00:00, 1443.02it/s]"
          }
        },
        "146071d21293472b95cc9b507d78ca4b": {
          "model_module": "@jupyter-widgets/base",
          "model_name": "LayoutModel",
          "model_module_version": "1.2.0",
          "state": {
            "_model_module": "@jupyter-widgets/base",
            "_model_module_version": "1.2.0",
            "_model_name": "LayoutModel",
            "_view_count": null,
            "_view_module": "@jupyter-widgets/base",
            "_view_module_version": "1.2.0",
            "_view_name": "LayoutView",
            "align_content": null,
            "align_items": null,
            "align_self": null,
            "border": null,
            "bottom": null,
            "display": null,
            "flex": null,
            "flex_flow": null,
            "grid_area": null,
            "grid_auto_columns": null,
            "grid_auto_flow": null,
            "grid_auto_rows": null,
            "grid_column": null,
            "grid_gap": null,
            "grid_row": null,
            "grid_template_areas": null,
            "grid_template_columns": null,
            "grid_template_rows": null,
            "height": null,
            "justify_content": null,
            "justify_items": null,
            "left": null,
            "margin": null,
            "max_height": null,
            "max_width": null,
            "min_height": null,
            "min_width": null,
            "object_fit": null,
            "object_position": null,
            "order": null,
            "overflow": null,
            "overflow_x": null,
            "overflow_y": null,
            "padding": null,
            "right": null,
            "top": null,
            "visibility": null,
            "width": null
          }
        },
        "59e9b1599ba949698506c2651ef995cc": {
          "model_module": "@jupyter-widgets/base",
          "model_name": "LayoutModel",
          "model_module_version": "1.2.0",
          "state": {
            "_model_module": "@jupyter-widgets/base",
            "_model_module_version": "1.2.0",
            "_model_name": "LayoutModel",
            "_view_count": null,
            "_view_module": "@jupyter-widgets/base",
            "_view_module_version": "1.2.0",
            "_view_name": "LayoutView",
            "align_content": null,
            "align_items": null,
            "align_self": null,
            "border": null,
            "bottom": null,
            "display": null,
            "flex": null,
            "flex_flow": null,
            "grid_area": null,
            "grid_auto_columns": null,
            "grid_auto_flow": null,
            "grid_auto_rows": null,
            "grid_column": null,
            "grid_gap": null,
            "grid_row": null,
            "grid_template_areas": null,
            "grid_template_columns": null,
            "grid_template_rows": null,
            "height": null,
            "justify_content": null,
            "justify_items": null,
            "left": null,
            "margin": null,
            "max_height": null,
            "max_width": null,
            "min_height": null,
            "min_width": null,
            "object_fit": null,
            "object_position": null,
            "order": null,
            "overflow": null,
            "overflow_x": null,
            "overflow_y": null,
            "padding": null,
            "right": null,
            "top": null,
            "visibility": null,
            "width": null
          }
        },
        "e84b3bb388fc4b1596494e41873e8e8b": {
          "model_module": "@jupyter-widgets/controls",
          "model_name": "DescriptionStyleModel",
          "model_module_version": "1.5.0",
          "state": {
            "_model_module": "@jupyter-widgets/controls",
            "_model_module_version": "1.5.0",
            "_model_name": "DescriptionStyleModel",
            "_view_count": null,
            "_view_module": "@jupyter-widgets/base",
            "_view_module_version": "1.2.0",
            "_view_name": "StyleView",
            "description_width": ""
          }
        },
        "51be0050535844c09c5594fe82550616": {
          "model_module": "@jupyter-widgets/base",
          "model_name": "LayoutModel",
          "model_module_version": "1.2.0",
          "state": {
            "_model_module": "@jupyter-widgets/base",
            "_model_module_version": "1.2.0",
            "_model_name": "LayoutModel",
            "_view_count": null,
            "_view_module": "@jupyter-widgets/base",
            "_view_module_version": "1.2.0",
            "_view_name": "LayoutView",
            "align_content": null,
            "align_items": null,
            "align_self": null,
            "border": null,
            "bottom": null,
            "display": null,
            "flex": null,
            "flex_flow": null,
            "grid_area": null,
            "grid_auto_columns": null,
            "grid_auto_flow": null,
            "grid_auto_rows": null,
            "grid_column": null,
            "grid_gap": null,
            "grid_row": null,
            "grid_template_areas": null,
            "grid_template_columns": null,
            "grid_template_rows": null,
            "height": null,
            "justify_content": null,
            "justify_items": null,
            "left": null,
            "margin": null,
            "max_height": null,
            "max_width": null,
            "min_height": null,
            "min_width": null,
            "object_fit": null,
            "object_position": null,
            "order": null,
            "overflow": null,
            "overflow_x": null,
            "overflow_y": null,
            "padding": null,
            "right": null,
            "top": null,
            "visibility": null,
            "width": null
          }
        },
        "699cd889ed7d4553b5bfcbce8504c11c": {
          "model_module": "@jupyter-widgets/controls",
          "model_name": "ProgressStyleModel",
          "model_module_version": "1.5.0",
          "state": {
            "_model_module": "@jupyter-widgets/controls",
            "_model_module_version": "1.5.0",
            "_model_name": "ProgressStyleModel",
            "_view_count": null,
            "_view_module": "@jupyter-widgets/base",
            "_view_module_version": "1.2.0",
            "_view_name": "StyleView",
            "bar_color": null,
            "description_width": ""
          }
        },
        "8e34f783bd354f169716449298df65f9": {
          "model_module": "@jupyter-widgets/base",
          "model_name": "LayoutModel",
          "model_module_version": "1.2.0",
          "state": {
            "_model_module": "@jupyter-widgets/base",
            "_model_module_version": "1.2.0",
            "_model_name": "LayoutModel",
            "_view_count": null,
            "_view_module": "@jupyter-widgets/base",
            "_view_module_version": "1.2.0",
            "_view_name": "LayoutView",
            "align_content": null,
            "align_items": null,
            "align_self": null,
            "border": null,
            "bottom": null,
            "display": null,
            "flex": null,
            "flex_flow": null,
            "grid_area": null,
            "grid_auto_columns": null,
            "grid_auto_flow": null,
            "grid_auto_rows": null,
            "grid_column": null,
            "grid_gap": null,
            "grid_row": null,
            "grid_template_areas": null,
            "grid_template_columns": null,
            "grid_template_rows": null,
            "height": null,
            "justify_content": null,
            "justify_items": null,
            "left": null,
            "margin": null,
            "max_height": null,
            "max_width": null,
            "min_height": null,
            "min_width": null,
            "object_fit": null,
            "object_position": null,
            "order": null,
            "overflow": null,
            "overflow_x": null,
            "overflow_y": null,
            "padding": null,
            "right": null,
            "top": null,
            "visibility": null,
            "width": null
          }
        },
        "5800bb3b7992454a9e2baa106e02f80e": {
          "model_module": "@jupyter-widgets/controls",
          "model_name": "DescriptionStyleModel",
          "model_module_version": "1.5.0",
          "state": {
            "_model_module": "@jupyter-widgets/controls",
            "_model_module_version": "1.5.0",
            "_model_name": "DescriptionStyleModel",
            "_view_count": null,
            "_view_module": "@jupyter-widgets/base",
            "_view_module_version": "1.2.0",
            "_view_name": "StyleView",
            "description_width": ""
          }
        },
        "fa3bcbe210024b49b6a4dd6d75fd9b01": {
          "model_module": "@jupyter-widgets/controls",
          "model_name": "HBoxModel",
          "model_module_version": "1.5.0",
          "state": {
            "_dom_classes": [],
            "_model_module": "@jupyter-widgets/controls",
            "_model_module_version": "1.5.0",
            "_model_name": "HBoxModel",
            "_view_count": null,
            "_view_module": "@jupyter-widgets/controls",
            "_view_module_version": "1.5.0",
            "_view_name": "HBoxView",
            "box_style": "",
            "children": [
              "IPY_MODEL_d80b5c8b370540a7a9e3b5b4a2aeb87e",
              "IPY_MODEL_25a5dfee81c14202842cd74f16f75015",
              "IPY_MODEL_422a40ff1c9f478facc5dbc823fa3bc0"
            ],
            "layout": "IPY_MODEL_0c5afd80b6a544139ccd22abf14048ab"
          }
        },
        "d80b5c8b370540a7a9e3b5b4a2aeb87e": {
          "model_module": "@jupyter-widgets/controls",
          "model_name": "HTMLModel",
          "model_module_version": "1.5.0",
          "state": {
            "_dom_classes": [],
            "_model_module": "@jupyter-widgets/controls",
            "_model_module_version": "1.5.0",
            "_model_name": "HTMLModel",
            "_view_count": null,
            "_view_module": "@jupyter-widgets/controls",
            "_view_module_version": "1.5.0",
            "_view_name": "HTMLView",
            "description": "",
            "description_tooltip": null,
            "layout": "IPY_MODEL_325319c2fa0249b98bcb33d2fd4f6c15",
            "placeholder": "​",
            "style": "IPY_MODEL_856bf0bd356844ee9c18f9c4f6c36b30",
            "value": "100%"
          }
        },
        "25a5dfee81c14202842cd74f16f75015": {
          "model_module": "@jupyter-widgets/controls",
          "model_name": "FloatProgressModel",
          "model_module_version": "1.5.0",
          "state": {
            "_dom_classes": [],
            "_model_module": "@jupyter-widgets/controls",
            "_model_module_version": "1.5.0",
            "_model_name": "FloatProgressModel",
            "_view_count": null,
            "_view_module": "@jupyter-widgets/controls",
            "_view_module_version": "1.5.0",
            "_view_name": "ProgressView",
            "bar_style": "success",
            "description": "",
            "description_tooltip": null,
            "layout": "IPY_MODEL_d6c2e02edc994eb2847ac5740cb7f146",
            "max": 5000,
            "min": 0,
            "orientation": "horizontal",
            "style": "IPY_MODEL_ab6dfe6822e54497ac07045e68b14256",
            "value": 5000
          }
        },
        "422a40ff1c9f478facc5dbc823fa3bc0": {
          "model_module": "@jupyter-widgets/controls",
          "model_name": "HTMLModel",
          "model_module_version": "1.5.0",
          "state": {
            "_dom_classes": [],
            "_model_module": "@jupyter-widgets/controls",
            "_model_module_version": "1.5.0",
            "_model_name": "HTMLModel",
            "_view_count": null,
            "_view_module": "@jupyter-widgets/controls",
            "_view_module_version": "1.5.0",
            "_view_name": "HTMLView",
            "description": "",
            "description_tooltip": null,
            "layout": "IPY_MODEL_42b5c501daf44269bdcdf8bba6be2616",
            "placeholder": "​",
            "style": "IPY_MODEL_943763133ef44b389828a5c35a1c7a69",
            "value": " 5000/5000 [03:57&lt;00:00, 35.94it/s]"
          }
        },
        "0c5afd80b6a544139ccd22abf14048ab": {
          "model_module": "@jupyter-widgets/base",
          "model_name": "LayoutModel",
          "model_module_version": "1.2.0",
          "state": {
            "_model_module": "@jupyter-widgets/base",
            "_model_module_version": "1.2.0",
            "_model_name": "LayoutModel",
            "_view_count": null,
            "_view_module": "@jupyter-widgets/base",
            "_view_module_version": "1.2.0",
            "_view_name": "LayoutView",
            "align_content": null,
            "align_items": null,
            "align_self": null,
            "border": null,
            "bottom": null,
            "display": null,
            "flex": null,
            "flex_flow": null,
            "grid_area": null,
            "grid_auto_columns": null,
            "grid_auto_flow": null,
            "grid_auto_rows": null,
            "grid_column": null,
            "grid_gap": null,
            "grid_row": null,
            "grid_template_areas": null,
            "grid_template_columns": null,
            "grid_template_rows": null,
            "height": null,
            "justify_content": null,
            "justify_items": null,
            "left": null,
            "margin": null,
            "max_height": null,
            "max_width": null,
            "min_height": null,
            "min_width": null,
            "object_fit": null,
            "object_position": null,
            "order": null,
            "overflow": null,
            "overflow_x": null,
            "overflow_y": null,
            "padding": null,
            "right": null,
            "top": null,
            "visibility": null,
            "width": null
          }
        },
        "325319c2fa0249b98bcb33d2fd4f6c15": {
          "model_module": "@jupyter-widgets/base",
          "model_name": "LayoutModel",
          "model_module_version": "1.2.0",
          "state": {
            "_model_module": "@jupyter-widgets/base",
            "_model_module_version": "1.2.0",
            "_model_name": "LayoutModel",
            "_view_count": null,
            "_view_module": "@jupyter-widgets/base",
            "_view_module_version": "1.2.0",
            "_view_name": "LayoutView",
            "align_content": null,
            "align_items": null,
            "align_self": null,
            "border": null,
            "bottom": null,
            "display": null,
            "flex": null,
            "flex_flow": null,
            "grid_area": null,
            "grid_auto_columns": null,
            "grid_auto_flow": null,
            "grid_auto_rows": null,
            "grid_column": null,
            "grid_gap": null,
            "grid_row": null,
            "grid_template_areas": null,
            "grid_template_columns": null,
            "grid_template_rows": null,
            "height": null,
            "justify_content": null,
            "justify_items": null,
            "left": null,
            "margin": null,
            "max_height": null,
            "max_width": null,
            "min_height": null,
            "min_width": null,
            "object_fit": null,
            "object_position": null,
            "order": null,
            "overflow": null,
            "overflow_x": null,
            "overflow_y": null,
            "padding": null,
            "right": null,
            "top": null,
            "visibility": null,
            "width": null
          }
        },
        "856bf0bd356844ee9c18f9c4f6c36b30": {
          "model_module": "@jupyter-widgets/controls",
          "model_name": "DescriptionStyleModel",
          "model_module_version": "1.5.0",
          "state": {
            "_model_module": "@jupyter-widgets/controls",
            "_model_module_version": "1.5.0",
            "_model_name": "DescriptionStyleModel",
            "_view_count": null,
            "_view_module": "@jupyter-widgets/base",
            "_view_module_version": "1.2.0",
            "_view_name": "StyleView",
            "description_width": ""
          }
        },
        "d6c2e02edc994eb2847ac5740cb7f146": {
          "model_module": "@jupyter-widgets/base",
          "model_name": "LayoutModel",
          "model_module_version": "1.2.0",
          "state": {
            "_model_module": "@jupyter-widgets/base",
            "_model_module_version": "1.2.0",
            "_model_name": "LayoutModel",
            "_view_count": null,
            "_view_module": "@jupyter-widgets/base",
            "_view_module_version": "1.2.0",
            "_view_name": "LayoutView",
            "align_content": null,
            "align_items": null,
            "align_self": null,
            "border": null,
            "bottom": null,
            "display": null,
            "flex": null,
            "flex_flow": null,
            "grid_area": null,
            "grid_auto_columns": null,
            "grid_auto_flow": null,
            "grid_auto_rows": null,
            "grid_column": null,
            "grid_gap": null,
            "grid_row": null,
            "grid_template_areas": null,
            "grid_template_columns": null,
            "grid_template_rows": null,
            "height": null,
            "justify_content": null,
            "justify_items": null,
            "left": null,
            "margin": null,
            "max_height": null,
            "max_width": null,
            "min_height": null,
            "min_width": null,
            "object_fit": null,
            "object_position": null,
            "order": null,
            "overflow": null,
            "overflow_x": null,
            "overflow_y": null,
            "padding": null,
            "right": null,
            "top": null,
            "visibility": null,
            "width": null
          }
        },
        "ab6dfe6822e54497ac07045e68b14256": {
          "model_module": "@jupyter-widgets/controls",
          "model_name": "ProgressStyleModel",
          "model_module_version": "1.5.0",
          "state": {
            "_model_module": "@jupyter-widgets/controls",
            "_model_module_version": "1.5.0",
            "_model_name": "ProgressStyleModel",
            "_view_count": null,
            "_view_module": "@jupyter-widgets/base",
            "_view_module_version": "1.2.0",
            "_view_name": "StyleView",
            "bar_color": null,
            "description_width": ""
          }
        },
        "42b5c501daf44269bdcdf8bba6be2616": {
          "model_module": "@jupyter-widgets/base",
          "model_name": "LayoutModel",
          "model_module_version": "1.2.0",
          "state": {
            "_model_module": "@jupyter-widgets/base",
            "_model_module_version": "1.2.0",
            "_model_name": "LayoutModel",
            "_view_count": null,
            "_view_module": "@jupyter-widgets/base",
            "_view_module_version": "1.2.0",
            "_view_name": "LayoutView",
            "align_content": null,
            "align_items": null,
            "align_self": null,
            "border": null,
            "bottom": null,
            "display": null,
            "flex": null,
            "flex_flow": null,
            "grid_area": null,
            "grid_auto_columns": null,
            "grid_auto_flow": null,
            "grid_auto_rows": null,
            "grid_column": null,
            "grid_gap": null,
            "grid_row": null,
            "grid_template_areas": null,
            "grid_template_columns": null,
            "grid_template_rows": null,
            "height": null,
            "justify_content": null,
            "justify_items": null,
            "left": null,
            "margin": null,
            "max_height": null,
            "max_width": null,
            "min_height": null,
            "min_width": null,
            "object_fit": null,
            "object_position": null,
            "order": null,
            "overflow": null,
            "overflow_x": null,
            "overflow_y": null,
            "padding": null,
            "right": null,
            "top": null,
            "visibility": null,
            "width": null
          }
        },
        "943763133ef44b389828a5c35a1c7a69": {
          "model_module": "@jupyter-widgets/controls",
          "model_name": "DescriptionStyleModel",
          "model_module_version": "1.5.0",
          "state": {
            "_model_module": "@jupyter-widgets/controls",
            "_model_module_version": "1.5.0",
            "_model_name": "DescriptionStyleModel",
            "_view_count": null,
            "_view_module": "@jupyter-widgets/base",
            "_view_module_version": "1.2.0",
            "_view_name": "StyleView",
            "description_width": ""
          }
        }
      }
    }
  },
  "nbformat": 4,
  "nbformat_minor": 0
}